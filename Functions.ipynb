{
  "nbformat": 4,
  "nbformat_minor": 0,
  "metadata": {
    "colab": {
      "provenance": []
    },
    "kernelspec": {
      "name": "python3",
      "display_name": "Python 3"
    },
    "language_info": {
      "name": "python"
    }
  },
  "cells": [
    {
      "cell_type": "code",
      "execution_count": null,
      "metadata": {
        "id": "18N4zNv6-pqD"
      },
      "outputs": [],
      "source": []
    },
    {
      "cell_type": "markdown",
      "source": [
        "1. What is Python, and why is it popular\n",
        "-> Python is an interpreted,object-oriented high level programming language which means it's organized around objects rather than actions, making it intuitive and efficient for developers and it is also a popular language because it's very versatile and flexible and used in wide varity of applications and it's learn to easy.\n",
        "\n",
        "2. What is an interpreter in Python\n",
        "-> Python is an interpreted language developed by Guido van Rossum in the year of 1991. As we all know Python is one of the most high-level languages used today because of its massive versatility and portable library & framework features. It is an interpreted language because it executes line-by-line instructions. There are actually two way to execute python code one is in Interactive mode and another thing is having Python prompts which is also called script mode. Python does not convert high level code into low level code as many other programming languages do rather it will scan the entire code into something called bytecode. every time when Python developer runs the code and start to execute the compilation part execute first and then it generate an byte code which get converted by PVM Python Virtual machine that understand the analogy and give the desired output.\n",
        "\n",
        "3. What are pre-defined keywords in Python\n",
        "-> False, True, None:\n",
        "and, or, not.\n",
        "as:\n",
        "assert:\n",
        "async, await: .\n",
        "break, continue: .\n",
        "class: .\n",
        "def:\n",
        "del:.\n",
        "elif, else, if:\n",
        "except, finally, try\n",
        "for, while:\n",
        "from, import:\n",
        "global\n",
        "in:\n",
        "is:\n",
        "lambda\n",
        "nonlocal\n",
        "pass:\n",
        "raise:\n",
        "return:\n",
        "with:\n",
        "yield:\n",
        "\n",
        "4. Can keywords be used as variable names\n",
        "->NO\n",
        "\n",
        "5. What is mutability in Python\n",
        "->\n",
        "Mutability refers to an object's ability to be modified after it's created. A mutable object can have its state or value changed in place, without creating a new object. Conversely, an immutable object cannot be changed after creation; any operation that appears to modify it will instead create a new object.\n",
        "\n",
        "6. Why are lists mutable, but tuples are immutable\n",
        "-> Tuples and lists are the same in every way except two: tuples use parentheses instead of square brackets, and the items in tuples cannot be modified (but the items in lists can be modified). We often call lists mutable (meaning they can be changed) and tuples immutable (meaning they cannot be changed).\n",
        "\n",
        "7. What is the difference between “==” and “is” operators in Python\n",
        "-> == Operator\n",
        "To compare objects based on their values, Python’s equality operators (==) are employed. It calls the left object’s __eq__() class method which specifies the criteria for determining equality. However, these constraints are typically written so that the equality operator == returns True if two objects, have the same value and returns False if both have different value.\n",
        "\n",
        "->‘is’ Operator\n",
        "Python identity operators (is, is not) are used to compare objects based on their identity. When the variables on either side of an operator point at the exact same object, the “is” operator’s evaluation is true. Otherwise, it would provide us with a false assessment.\n",
        "\n",
        "8. What are logical operators in Python\n",
        "-> Logical operators in Python are used to combine or modify conditional statements. They operate on boolean values (True or False) and return a boolean result. There are three main logical operators in Python: and, or, and not.\n",
        "and: Returns True if both operands are True, otherwise returns False.\n",
        "\n",
        "9. What is type casting in Python\n",
        "-> Type casting in programming refers to the process of converting a value from one data type to another. It's essentially a manual conversion that allows you to store a value of one type in a variable of a different type. This process is necessary when you need to perform operations between different data types or when you want to explicitly change the type of a variable.\n",
        "\n",
        "10. What is the difference between implicit and explicit type casting.\n",
        "-> Implicit Type Casting:\n",
        "In implicit type casting, the programming language automatically converts data from one type to another if needed. For example, if you have an integer variable and you try to assign it to a float variable, the programming language will automatically convert the integer to a float without you having to do anything.\n",
        "-> Explicit Type Casting:\n",
        "Explicit type casting, also known as type conversion or type coercion, occurs when the programmer explicitly converts a value from one data type to another. Unlike implicit type casting, explicit type casting requires the programmer to specify the desired data type conversion\n",
        "\n",
        "11. What is the purpose of conditional statements in Python\n",
        "-> The purpose of conditional statements in Python is to control the flow of execution based on whether a certain condition is true or false. They enable programs to make decisions and execute different blocks of code accordingly.\n",
        "Conditional statements are fundamental for creating dynamic and responsive programs that can adapt to different situations and user inputs. They allow for branching logic, where different code paths are taken depending on the evaluation of a condition.\n",
        "\n",
        "12. How does the elif statement work\n",
        "-> The “elif” keyword in Python, stands for “else if”. It can be used in conditional statements to check for multiple conditions. For example, if the first condition is false, it moves on to the next “elif” statement to check if that condition is true.\n",
        "\n",
        "13.What is the difference between for and while loops\n",
        "-> For Loop in Programming:\n",
        "The for loop is used when you know in advance how many times you want to execute the block of code.\n",
        "It iterates over a sequence (e.g., a list, tuple, string, or range) and executes the block of code for each item in the sequence.\n",
        "The loop variable (variable) takes the value of each item in the sequence during each iteration.\n",
        "-> While Loop in Programming:\n",
        "The while loop is used when you don't know in advance how many times you want to execute the block of code. It continues to execute as long as the specified condition is true.\n",
        "It's important to make sure that the condition eventually becomes false; otherwise, the loop will run indefinitely, resulting in an infinite loop.\n",
        "\n",
        "14. Describe a scenario where a while loop is more suitable than a for loop.\n",
        "-> In programming, for loops are best used when you know the number of iterations ahead of time, whereas a while loop is best used when you don't know the number of iterations in advance. Both methods can help you iterate through your code.\n"
      ],
      "metadata": {
        "id": "SWmpAk2a_MzL"
      }
    },
    {
      "cell_type": "markdown",
      "source": [],
      "metadata": {
        "id": "NXpIM4pyj307"
      }
    },
    {
      "cell_type": "code",
      "source": [
        "#Write a Python program to print \"Hello, World!\n",
        "\n",
        "print(\"Hello, World!\")"
      ],
      "metadata": {
        "colab": {
          "base_uri": "https://localhost:8080/"
        },
        "id": "bb2OYVLUoRXf",
        "outputId": "44d69b02-f348-42dc-dcb5-09288b2aa3c0"
      },
      "execution_count": 1,
      "outputs": [
        {
          "output_type": "stream",
          "name": "stdout",
          "text": [
            "Hello, World!\n"
          ]
        }
      ]
    },
    {
      "cell_type": "markdown",
      "source": [],
      "metadata": {
        "id": "gUyWZbmEj69p"
      }
    },
    {
      "cell_type": "code",
      "source": [
        "#Write a Python program that displays your name and age\n",
        "\n",
        "name = \"Your Name\"\n",
        "age = 30\n",
        "print(\"My name is\", name)\n",
        "print(\"I am\", age, \"years old\")"
      ],
      "metadata": {
        "colab": {
          "base_uri": "https://localhost:8080/"
        },
        "id": "Rqy3tp_-ovE3",
        "outputId": "c603ce70-19af-48c0-cf09-9b37c868f854"
      },
      "execution_count": 2,
      "outputs": [
        {
          "output_type": "stream",
          "name": "stdout",
          "text": [
            "My name is Your Name\n",
            "I am 30 years old\n"
          ]
        }
      ]
    },
    {
      "cell_type": "code",
      "source": [
        "#Write code to print all the pre-defined keywords in Python using the keyword library\n",
        "import keyword\n",
        "\n",
        "# printing all keywords at once using \"kwlist()\"\n",
        "print(\"The list of keywords is : \")\n",
        "print(keyword.kwlist)"
      ],
      "metadata": {
        "colab": {
          "base_uri": "https://localhost:8080/"
        },
        "id": "hxDuJgufo2QJ",
        "outputId": "da3d1a4f-d7a0-42f6-9ea5-640e13d9ee37"
      },
      "execution_count": 3,
      "outputs": [
        {
          "output_type": "stream",
          "name": "stdout",
          "text": [
            "The list of keywords is : \n",
            "['False', 'None', 'True', 'and', 'as', 'assert', 'async', 'await', 'break', 'class', 'continue', 'def', 'del', 'elif', 'else', 'except', 'finally', 'for', 'from', 'global', 'if', 'import', 'in', 'is', 'lambda', 'nonlocal', 'not', 'or', 'pass', 'raise', 'return', 'try', 'while', 'with', 'yield']\n"
          ]
        }
      ]
    },
    {
      "cell_type": "code",
      "source": [
        "#Write a program that checks if a given word is a Python keyword.\n",
        "\n",
        "import keyword\n",
        "# initializing strings for testing while putting them in an array\n",
        "keys = [\"for\", \"geeksforgeeks\", \"elif\", \"elseif\", \"nikhil\",\n",
        "        \"assert\", \"shambhavi\", \"True\", \"False\", \"akshat\",\n",
        "        \"akash\", \"break\", \"ashty\", \"lambda\", \"suman\",\n",
        "        \"try\", \"vaishnavi\"]\n",
        "\n",
        "for i in range(len(keys)):\n",
        "     # checking which are keywords\n",
        "    if keyword.iskeyword(keys[i]):\n",
        "        print(keys[i] + \" is python keyword\")\n",
        "    else:\n",
        "        print(keys[i] + \" is not a python keyword\")"
      ],
      "metadata": {
        "colab": {
          "base_uri": "https://localhost:8080/"
        },
        "id": "THdp-yXtpI_r",
        "outputId": "a4cd3898-46cf-4a9e-bb9d-85348f89c926"
      },
      "execution_count": 6,
      "outputs": [
        {
          "output_type": "stream",
          "name": "stdout",
          "text": [
            "for is python keyword\n",
            "geeksforgeeks is not a python keyword\n",
            "elif is python keyword\n",
            "elseif is not a python keyword\n",
            "nikhil is not a python keyword\n",
            "assert is python keyword\n",
            "shambhavi is not a python keyword\n",
            "True is python keyword\n",
            "False is python keyword\n",
            "akshat is not a python keyword\n",
            "akash is not a python keyword\n",
            "break is python keyword\n",
            "ashty is not a python keyword\n",
            "lambda is python keyword\n",
            "suman is not a python keyword\n",
            "try is python keyword\n",
            "vaishnavi is not a python keyword\n"
          ]
        }
      ]
    },
    {
      "cell_type": "code",
      "source": [
        "#Create a list and tuple in Python, and demonstrate how attempting to change an element works differently for each\n",
        "\n",
        "\n",
        "# Creating a list\n",
        "my_list = [1, 2, 3]\n",
        "print(\"List:\", my_list)\n",
        "\n",
        "# Changing an element in a list\n",
        "my_list[0] = 10\n",
        "print(\"List after changing element:\", my_list)\n",
        "\n",
        "# Creating a tuple\n",
        "my_tuple = (4, 5, 6)\n",
        "print(\"Tuple:\", my_tuple)\n",
        "\n",
        "# Attempting to change an element in a tuple\n",
        "try:\n",
        "    my_tuple[0] = 40\n",
        "except TypeError as e:\n",
        "    print(\"Error:\", e)"
      ],
      "metadata": {
        "colab": {
          "base_uri": "https://localhost:8080/"
        },
        "id": "0XgkdfQnpfiE",
        "outputId": "f4332ce8-fe5f-4a90-bff6-67945038828a"
      },
      "execution_count": 8,
      "outputs": [
        {
          "output_type": "stream",
          "name": "stdout",
          "text": [
            "List: [1, 2, 3]\n",
            "List after changing element: [10, 2, 3]\n",
            "Tuple: (4, 5, 6)\n",
            "Error: 'tuple' object does not support item assignment\n"
          ]
        }
      ]
    },
    {
      "cell_type": "code",
      "source": [
        "#Write a function to demonstrate the behavior of mutable and immutable arguments\n",
        "\n",
        "def modify_arguments(immutable_arg, mutable_arg):\n",
        "    # Attempt to modify the immutable argument (integer)\n",
        "    immutable_arg += 10\n",
        "    print(\"Inside function - immutable_arg:\", immutable_arg)\n",
        "\n",
        "    # Modify the mutable argument (list)\n",
        "    mutable_arg.append(4)\n",
        "    print(\"Inside function - mutable_arg:\", mutable_arg)\n",
        "\n",
        "# Initial values\n",
        "immutable_value = 5\n",
        "mutable_value = [1, 2, 3]\n",
        "\n",
        "print(\"Before function call:\")\n",
        "print(\"immutable_value:\", immutable_value)\n",
        "print(\"mutable_value:\", mutable_value)\n",
        "\n",
        "modify_arguments(immutable_value, mutable_value)\n",
        "\n",
        "print(\"After function call:\")\n",
        "print(\"immutable_value:\", immutable_value)  # Unchanged\n",
        "print(\"mutable_value:\", mutable_value)      # Changed"
      ],
      "metadata": {
        "colab": {
          "base_uri": "https://localhost:8080/"
        },
        "id": "HWPMkc7Op0NB",
        "outputId": "48a944c3-5053-477e-99fc-027a3e0cea9a"
      },
      "execution_count": 9,
      "outputs": [
        {
          "output_type": "stream",
          "name": "stdout",
          "text": [
            "Before function call:\n",
            "immutable_value: 5\n",
            "mutable_value: [1, 2, 3]\n",
            "Inside function - immutable_arg: 15\n",
            "Inside function - mutable_arg: [1, 2, 3, 4]\n",
            "After function call:\n",
            "immutable_value: 5\n",
            "mutable_value: [1, 2, 3, 4]\n"
          ]
        }
      ]
    },
    {
      "cell_type": "code",
      "source": [
        "# Write a program that performs basic arithmetic operations on two user-input numbers\n",
        "def arithmetic_operations():\n",
        "    # Get user input\n",
        "    try:\n",
        "        num1 = float(input(\"Enter the first number: \"))\n",
        "        num2 = float(input(\"Enter the second number: \"))\n",
        "    except ValueError:\n",
        "        print(\"Invalid input. Please enter numeric values.\")\n",
        "        return\n",
        "\n",
        "    # Perform arithmetic operations\n",
        "    print(f\"\\nResults for numbers {num1} and {num2}:\")\n",
        "    print(f\"Addition: {num1} + {num2} = {num1 + num2}\")\n",
        "    print(f\"Subtraction: {num1} - {num2} = {num1 - num2}\")\n",
        "    print(f\"Multiplication: {num1} * {num2} = {num1 * num2}\")\n",
        "\n",
        "    # Handle division by zero\n",
        "    if num2 != 0:\n",
        "        print(f\"Division: {num1} / {num2} = {num1 / num2}\")\n",
        "    else:\n",
        "        print(\"Division: Cannot divide by zero.\")\n",
        "\n",
        "# Run the function\n",
        "arithmetic_operations()"
      ],
      "metadata": {
        "colab": {
          "base_uri": "https://localhost:8080/"
        },
        "id": "KkTqnpGVqVOC",
        "outputId": "31319c5d-bae7-47b3-8426-45e9b2fd9a59"
      },
      "execution_count": 10,
      "outputs": [
        {
          "output_type": "stream",
          "name": "stdout",
          "text": [
            "Enter the first number: 1\n",
            "Enter the second number: 2\n",
            "\n",
            "Results for numbers 1.0 and 2.0:\n",
            "Addition: 1.0 + 2.0 = 3.0\n",
            "Subtraction: 1.0 - 2.0 = -1.0\n",
            "Multiplication: 1.0 * 2.0 = 2.0\n",
            "Division: 1.0 / 2.0 = 0.5\n"
          ]
        }
      ]
    },
    {
      "cell_type": "code",
      "source": [
        "# Write a program to demonstrate the use of logical operators.\n",
        "def logical_operators_demo():\n",
        "    print(\"Logical Operators Demo\\n\")\n",
        "\n",
        "    # Get user input for two conditions\n",
        "    a = int(input(\"Enter first number (a): \"))\n",
        "    b = int(input(\"Enter second number (b): \"))\n",
        "\n",
        "    # Logical AND\n",
        "    print(\"\\nLogical AND (a > 0 and b > 0):\", a > 0 and b > 0)\n",
        "\n",
        "    # Logical OR\n",
        "    print(\"Logical OR (a > 0 or b > 0):\", a > 0 or b > 0)\n",
        "\n",
        "    # Logical NOT\n",
        "    print(\"Logical NOT (not(a > 0)):\", not(a > 0))\n",
        "\n",
        "# Run the function\n",
        "logical_operators_demo()"
      ],
      "metadata": {
        "colab": {
          "base_uri": "https://localhost:8080/"
        },
        "id": "c108Dlp5quJn",
        "outputId": "2e0d5b68-28a3-4451-877d-dff00d873cd5"
      },
      "execution_count": 11,
      "outputs": [
        {
          "output_type": "stream",
          "name": "stdout",
          "text": [
            "Logical Operators Demo\n",
            "\n",
            "Enter first number (a): 1\n",
            "Enter second number (b): 3\n",
            "\n",
            "Logical AND (a > 0 and b > 0): True\n",
            "Logical OR (a > 0 or b > 0): True\n",
            "Logical NOT (not(a > 0)): False\n"
          ]
        }
      ]
    },
    {
      "cell_type": "code",
      "source": [
        "#Write a Python program to convert user input from string to integer, float, and boolean types\n",
        "def convert_string_to_types(input_string):\n",
        "    \"\"\"\n",
        "    Converts a string to integer, float, and boolean types.\n",
        "\n",
        "    Args:\n",
        "      input_string: The string to convert.\n",
        "\n",
        "    Returns:\n",
        "      A tuple containing the converted integer, float, and boolean values,\n",
        "      or None if conversion is not possible.\n",
        "    \"\"\"\n",
        "    try:\n",
        "        integer_value = int(input_string)\n",
        "    except ValueError:\n",
        "        integer_value = None\n",
        "\n",
        "    try:\n",
        "        float_value = float(input_string)\n",
        "    except ValueError:\n",
        "        float_value = None\n",
        "\n",
        "    if input_string.lower() == \"true\":\n",
        "        boolean_value = True\n",
        "    elif input_string.lower() == \"false\":\n",
        "        boolean_value = False\n",
        "    else:\n",
        "       boolean_value = None\n",
        "\n",
        "    return integer_value, float_value, boolean_value\n",
        "\n",
        "# Get user input\n",
        "user_input = input(\"Enter a value: \")\n",
        "\n",
        "# Convert the input string\n",
        "integer_result, float_result, boolean_result = convert_string_to_types(user_input)\n",
        "\n",
        "# Print the converted values\n",
        "print(\"Integer:\", integer_result)\n",
        "print(\"Float:\", float_result)\n",
        "print(\"Boolean:\", boolean_result)"
      ],
      "metadata": {
        "colab": {
          "base_uri": "https://localhost:8080/"
        },
        "id": "12okfw6Lq3p0",
        "outputId": "a1f2b9c1-f877-4a75-c4ee-8e1d42651910"
      },
      "execution_count": 12,
      "outputs": [
        {
          "output_type": "stream",
          "name": "stdout",
          "text": [
            "Enter a value: 1\n",
            "Integer: 1\n",
            "Float: 1.0\n",
            "Boolean: None\n"
          ]
        }
      ]
    },
    {
      "cell_type": "code",
      "source": [
        "# Write code to demonstrate type casting with list elements\n",
        "my_list = ['1', '2', '3', '4', '5']\n",
        "\n",
        "# Convert string elements to integers\n",
        "int_list = [int(x) for x in my_list]\n",
        "print(\"List of Integers:\", int_list)\n",
        "\n",
        "# Convert integer elements to float\n",
        "float_list = [float(x) for x in int_list]\n",
        "print(\"List of Floats:\", float_list)\n",
        "\n",
        "# Convert float elements back to strings\n",
        "str_list = [str(x) for x in float_list]\n",
        "print(\"List of Strings:\", str_list)\n",
        "\n",
        "# Example with mixed data types\n",
        "mixed_list = ['1', 2, 3.0, 'four']\n",
        "\n",
        "# Type casting only numeric strings to integers, handling errors\n",
        "converted_list = []\n",
        "for item in mixed_list:\n",
        "    if isinstance(item, str) and item.isdigit():\n",
        "        converted_list.append(int(item))\n",
        "    elif isinstance(item, int) or isinstance(item, float):\n",
        "      converted_list.append(int(item))\n",
        "    else:\n",
        "        converted_list.append(item)\n",
        "print(\"List with type casting where applicable:\", converted_list)"
      ],
      "metadata": {
        "colab": {
          "base_uri": "https://localhost:8080/"
        },
        "id": "ZuCBnZCbrFq3",
        "outputId": "08a64dc0-ea32-4e43-fe06-b6b520141446"
      },
      "execution_count": 13,
      "outputs": [
        {
          "output_type": "stream",
          "name": "stdout",
          "text": [
            "List of Integers: [1, 2, 3, 4, 5]\n",
            "List of Floats: [1.0, 2.0, 3.0, 4.0, 5.0]\n",
            "List of Strings: ['1.0', '2.0', '3.0', '4.0', '5.0']\n",
            "List with type casting where applicable: [1, 2, 3, 'four']\n"
          ]
        }
      ]
    },
    {
      "cell_type": "code",
      "source": [
        "#Write a program that checks if a number is positive, negative, or zero\n",
        "num = float(input(\"Enter a number: \"))\n",
        "if num > 0:\n",
        "   print(\"Positive number\")\n",
        "elif num == 0:\n",
        "   print(\"Zero\")\n",
        "else:\n",
        "   print(\"Negative number\")"
      ],
      "metadata": {
        "colab": {
          "base_uri": "https://localhost:8080/"
        },
        "id": "m80VVdV9rWTm",
        "outputId": "b5532e66-02dc-4190-cdeb-4dbdd77f8350"
      },
      "execution_count": 14,
      "outputs": [
        {
          "output_type": "stream",
          "name": "stdout",
          "text": [
            "Enter a number: 1\n",
            "Positive number\n"
          ]
        }
      ]
    },
    {
      "cell_type": "code",
      "source": [
        "# Write a for loop to print numbers from 1 to 10\n",
        "for i in range(1, 11):\n",
        "    print(i)"
      ],
      "metadata": {
        "colab": {
          "base_uri": "https://localhost:8080/"
        },
        "id": "2W8vY9rfrfjG",
        "outputId": "25ba16d8-809e-424d-a26f-6392152fcd74"
      },
      "execution_count": 15,
      "outputs": [
        {
          "output_type": "stream",
          "name": "stdout",
          "text": [
            "1\n",
            "2\n",
            "3\n",
            "4\n",
            "5\n",
            "6\n",
            "7\n",
            "8\n",
            "9\n",
            "10\n"
          ]
        }
      ]
    },
    {
      "cell_type": "code",
      "source": [
        "# Write a Python program to find the sum of all even numbers between 1 and 50\n",
        "def sum_of_even_numbers():\n",
        "    total = 0\n",
        "    for number in range(1, 51):\n",
        "        if number % 2 == 0:\n",
        "            total += number\n",
        "    print(\"Sum of even numbers from 1 to 50 is:\", total)\n",
        "\n",
        "# Run the function\n",
        "sum_of_even_numbers()"
      ],
      "metadata": {
        "colab": {
          "base_uri": "https://localhost:8080/"
        },
        "id": "leIXAMMCru8H",
        "outputId": "9982023e-34f4-4e24-b429-c1030fc7d7d9"
      },
      "execution_count": 16,
      "outputs": [
        {
          "output_type": "stream",
          "name": "stdout",
          "text": [
            "Sum of even numbers from 1 to 50 is: 650\n"
          ]
        }
      ]
    },
    {
      "cell_type": "code",
      "source": [
        "#Write a program to reverse a string using a while loop\n",
        "def reverse_string():\n",
        "    original = input(\"Enter a string to reverse: \")\n",
        "    reversed_str = \"\"\n",
        "    index = len(original) - 1\n",
        "\n",
        "    while index >= 0:\n",
        "        reversed_str += original[index]\n",
        "        index -= 1\n",
        "\n",
        "    print(\"Reversed string:\", reversed_str)\n",
        "\n",
        "# Run the function\n",
        "reverse_string()"
      ],
      "metadata": {
        "colab": {
          "base_uri": "https://localhost:8080/"
        },
        "id": "_VHyy843r6-k",
        "outputId": "0f36a561-7d0f-4a43-d2eb-f896a3f9d649"
      },
      "execution_count": 17,
      "outputs": [
        {
          "output_type": "stream",
          "name": "stdout",
          "text": [
            "Enter a string to reverse: 2\n",
            "Reversed string: 2\n"
          ]
        }
      ]
    },
    {
      "cell_type": "code",
      "source": [
        "# Write a Python program to calculate the factorial of a number provided by the user using a while loop\n",
        "def factorial_while():\n",
        "    try:\n",
        "        num = int(input(\"Enter a non-negative integer: \"))\n",
        "        if num < 0:\n",
        "            print(\"Factorial is not defined for negative numbers.\")\n",
        "            return\n",
        "    except ValueError:\n",
        "        print(\"Invalid input. Please enter an integer.\")\n",
        "        return\n",
        "\n",
        "    factorial = 1\n",
        "    i = 1\n",
        "\n",
        "    while i <= num:\n",
        "        factorial *= i\n",
        "        i += 1\n",
        "\n",
        "    print(f\"Factorial of {num} is: {factorial}\")\n",
        "\n",
        "# Run the function\n",
        "factorial_while()"
      ],
      "metadata": {
        "colab": {
          "base_uri": "https://localhost:8080/"
        },
        "id": "kM98-G6RsCh-",
        "outputId": "36a44209-401b-470d-f306-ee5113fb6668"
      },
      "execution_count": 18,
      "outputs": [
        {
          "output_type": "stream",
          "name": "stdout",
          "text": [
            "Enter a non-negative integer: 3\n",
            "Factorial of 3 is: 6\n"
          ]
        }
      ]
    },
    {
      "cell_type": "code",
      "source": [],
      "metadata": {
        "id": "EWmyVkTUsPK1"
      },
      "execution_count": null,
      "outputs": []
    }
  ]
}